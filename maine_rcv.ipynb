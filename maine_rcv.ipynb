{
 "cells": [
  {
   "cell_type": "markdown",
   "metadata": {},
   "source": [
    "# Maine Rank Choice Voting (RCV) Analysis \n",
    "\n",
    "* Following the law here: https://legislature.maine.gov/statutes/21-A/title21-Asec723-A.html\n",
    "* And rules here: https://www.maine.gov/sos/cec/elec/upcoming/pdf/250c535-2018-230-complete.pdf\n",
    "* Data source: https://www.maine.gov/sos/cec/elec/results/results18.html#Nov6"
   ]
  },
  {
   "cell_type": "code",
   "execution_count": 1,
   "metadata": {},
   "outputs": [
    {
     "name": "stdout",
     "output_type": "stream",
     "text": [
      "n_ballots: 296077\n"
     ]
    },
    {
     "data": {
      "text/html": [
       "<div>\n",
       "<style scoped>\n",
       "    .dataframe tbody tr th:only-of-type {\n",
       "        vertical-align: middle;\n",
       "    }\n",
       "\n",
       "    .dataframe tbody tr th {\n",
       "        vertical-align: top;\n",
       "    }\n",
       "\n",
       "    .dataframe thead th {\n",
       "        text-align: right;\n",
       "    }\n",
       "</style>\n",
       "<table border=\"1\" class=\"dataframe\">\n",
       "  <thead>\n",
       "    <tr style=\"text-align: right;\">\n",
       "      <th></th>\n",
       "      <th>record</th>\n",
       "      <th>precinct</th>\n",
       "      <th>ballot_style</th>\n",
       "      <th>rank1</th>\n",
       "      <th>rank2</th>\n",
       "      <th>rank3</th>\n",
       "      <th>rank4</th>\n",
       "      <th>rank5</th>\n",
       "    </tr>\n",
       "  </thead>\n",
       "  <tbody>\n",
       "    <tr>\n",
       "      <th>0</th>\n",
       "      <td>1</td>\n",
       "      <td>Fayette</td>\n",
       "      <td>CAN Ballot Style 130</td>\n",
       "      <td>REP Poliquin, Bruce (5931)</td>\n",
       "      <td>REP Poliquin, Bruce</td>\n",
       "      <td>REP Poliquin, Bruce</td>\n",
       "      <td>undervote</td>\n",
       "      <td>undervote</td>\n",
       "    </tr>\n",
       "    <tr>\n",
       "      <th>1</th>\n",
       "      <td>2</td>\n",
       "      <td>Fayette</td>\n",
       "      <td>CAN Ballot Style 130</td>\n",
       "      <td>REP Poliquin, Bruce (5931)</td>\n",
       "      <td>undervote</td>\n",
       "      <td>undervote</td>\n",
       "      <td>undervote</td>\n",
       "      <td>undervote</td>\n",
       "    </tr>\n",
       "    <tr>\n",
       "      <th>2</th>\n",
       "      <td>3</td>\n",
       "      <td>Fayette</td>\n",
       "      <td>CAN Ballot Style 130</td>\n",
       "      <td>DEM Golden, Jared F. (5471)</td>\n",
       "      <td>Bond, Tiffany L.</td>\n",
       "      <td>undervote</td>\n",
       "      <td>undervote</td>\n",
       "      <td>undervote</td>\n",
       "    </tr>\n",
       "    <tr>\n",
       "      <th>3</th>\n",
       "      <td>4</td>\n",
       "      <td>Fayette</td>\n",
       "      <td>CAN Ballot Style 130</td>\n",
       "      <td>REP Poliquin, Bruce (5931)</td>\n",
       "      <td>DEM Golden, Jared F.</td>\n",
       "      <td>Bond, Tiffany L.</td>\n",
       "      <td>DEM Golden, Jared F.</td>\n",
       "      <td>Hoar, William R.S.</td>\n",
       "    </tr>\n",
       "    <tr>\n",
       "      <th>4</th>\n",
       "      <td>6</td>\n",
       "      <td>Fayette</td>\n",
       "      <td>CAN Ballot Style 130</td>\n",
       "      <td>REP Poliquin, Bruce (5931)</td>\n",
       "      <td>undervote</td>\n",
       "      <td>undervote</td>\n",
       "      <td>undervote</td>\n",
       "      <td>undervote</td>\n",
       "    </tr>\n",
       "  </tbody>\n",
       "</table>\n",
       "</div>"
      ],
      "text/plain": [
       "   record precinct          ballot_style                        rank1  \\\n",
       "0       1  Fayette  CAN Ballot Style 130   REP Poliquin, Bruce (5931)   \n",
       "1       2  Fayette  CAN Ballot Style 130   REP Poliquin, Bruce (5931)   \n",
       "2       3  Fayette  CAN Ballot Style 130  DEM Golden, Jared F. (5471)   \n",
       "3       4  Fayette  CAN Ballot Style 130   REP Poliquin, Bruce (5931)   \n",
       "4       6  Fayette  CAN Ballot Style 130   REP Poliquin, Bruce (5931)   \n",
       "\n",
       "                  rank2                rank3                 rank4  \\\n",
       "0   REP Poliquin, Bruce  REP Poliquin, Bruce             undervote   \n",
       "1             undervote            undervote             undervote   \n",
       "2      Bond, Tiffany L.            undervote             undervote   \n",
       "3  DEM Golden, Jared F.     Bond, Tiffany L.  DEM Golden, Jared F.   \n",
       "4             undervote            undervote             undervote   \n",
       "\n",
       "                rank5  \n",
       "0           undervote  \n",
       "1           undervote  \n",
       "2           undervote  \n",
       "3  Hoar, William R.S.  \n",
       "4           undervote  "
      ]
     },
     "execution_count": 1,
     "metadata": {},
     "output_type": "execute_result"
    }
   ],
   "source": [
    "import pandas as pd\n",
    "\n",
    "ballot_df = pd.read_csv('data/ME_all.csv')\n",
    "n_ballots = ballot_df.shape[0]\n",
    "print(\"n_ballots:\", n_ballots)\n",
    "ballot_df.head()"
   ]
  },
  {
   "cell_type": "code",
   "execution_count": 2,
   "metadata": {},
   "outputs": [
    {
     "data": {
      "text/plain": [
       "REP Poliquin, Bruce (5931)     133793\n",
       "DEM Golden, Jared F. (5471)    131003\n",
       "Bond, Tiffany L.                16415\n",
       "Hoar, William R.S.               6782\n",
       "undervote                        6641\n",
       "DEM Golden, Jared F.              819\n",
       "overvote                          424\n",
       "REP Poliquin, Bruce               200\n",
       "Name: rank1, dtype: int64"
      ]
     },
     "execution_count": 2,
     "metadata": {},
     "output_type": "execute_result"
    }
   ],
   "source": [
    "ballot_df['rank1'].value_counts()"
   ]
  },
  {
   "cell_type": "markdown",
   "metadata": {},
   "source": [
    "## Data Cleaning"
   ]
  },
  {
   "cell_type": "code",
   "execution_count": 3,
   "metadata": {},
   "outputs": [
    {
     "data": {
      "text/plain": [
       "REP Poliquin, Bruce     133993\n",
       "DEM Golden, Jared F.    131822\n",
       "Bond, Tiffany L.         16415\n",
       "Hoar, William R.S.        6782\n",
       "undervote                 6641\n",
       "overvote                   424\n",
       "Name: rank1, dtype: int64"
      ]
     },
     "execution_count": 3,
     "metadata": {},
     "output_type": "execute_result"
    }
   ],
   "source": [
    "# remove ' (5931)'' from 'REP Poliquin, Bruce (5931)' and ' (5471)' from DEM Golden, Jared F. (5471)\n",
    "# now each candidate has exaclty one string representing a vote for them.\n",
    "ballot_df['rank1'] = ballot_df['rank1'].map(lambda choice: choice.split(' (')[0].strip())\n",
    "ballot_df.rank1.value_counts()"
   ]
  },
  {
   "cell_type": "code",
   "execution_count": 4,
   "metadata": {},
   "outputs": [
    {
     "name": "stdout",
     "output_type": "stream",
     "text": [
      "Cleaning rank2\n",
      "Cleaning rank3\n",
      "Cleaning rank4\n",
      "Cleaning rank5\n"
     ]
    }
   ],
   "source": [
    "# apply the same cleaning to all other ranks\n",
    "for index in range(2, 6):\n",
    "    rank = 'rank{}'.format(index)\n",
    "    print(\"Cleaning\", rank)\n",
    "    ballot_df[rank] = ballot_df[rank].map(lambda choice: choice.split(' (')[0].strip())"
   ]
  },
  {
   "cell_type": "code",
   "execution_count": 5,
   "metadata": {},
   "outputs": [
    {
     "data": {
      "text/plain": [
       "{'Bond, Tiffany L.',\n",
       " 'DEM Golden, Jared F.',\n",
       " 'Hoar, William R.S.',\n",
       " 'REP Poliquin, Bruce',\n",
       " 'overvote',\n",
       " 'undervote'}"
      ]
     },
     "execution_count": 5,
     "metadata": {},
     "output_type": "execute_result"
    }
   ],
   "source": [
    "# ensure strings are consistent across all columns\n",
    "unique_candidate_set = set()\n",
    "for index in range(1, 6):\n",
    "    rank = 'rank{}'.format(index)\n",
    "    rank_i_unique_candidate_set = set(ballot_df[rank].unique())\n",
    "    # take the union of unique candidates so far and unique candidates in this round\n",
    "    unique_candidate_set = unique_candidate_set | rank_i_unique_candidate_set \n",
    "unique_candidate_set"
   ]
  },
  {
   "cell_type": "markdown",
   "metadata": {},
   "source": [
    "We now see that across all ranks, each candidate is represented by exaclty one unique string."
   ]
  },
  {
   "cell_type": "markdown",
   "metadata": {},
   "source": [
    "## Definitions\n",
    "From [Tile 21-A, §723-A](https://legislature.maine.gov/statutes/21-A/title21-Asec723-A.html):\n",
    "\n",
    ">A. \"Batch elimination\" means the simultaneous defeat of multiple candidates for whom it is mathematically impossible to be elected.   [IB 2015, c. 3, §5 (NEW).]\n",
    "\n",
    ">B. \"Continuing ballot\" means a ballot that is not an exhausted ballot.   [IB 2015, c. 3, §5 (NEW).]\n",
    "\n",
    ">C. \"Continuing candidate\" means a candidate who has not been defeated.   [IB 2015, c. 3, §5 (NEW).]"
   ]
  },
  {
   "cell_type": "code",
   "execution_count": 6,
   "metadata": {},
   "outputs": [],
   "source": [
    "candidate_set = {\n",
    "    'Bond, Tiffany L.',\n",
    "    'DEM Golden, Jared F.',\n",
    "    'Hoar, William R.S.',\n",
    "    'REP Poliquin, Bruce'\n",
    "}\n",
    "continuing_candidate_set = {\n",
    "    'Bond, Tiffany L.',\n",
    "    'DEM Golden, Jared F.',\n",
    "    'Hoar, William R.S.',\n",
    "    'REP Poliquin, Bruce'\n",
    "}"
   ]
  },
  {
   "cell_type": "markdown",
   "metadata": {},
   "source": [
    ">D. \"Exhausted ballot\" means a ballot that does not rank any continuing candidate, contains an overvote at the highest continuing ranking or contains 2 or more sequential skipped rankings before its highest continuing ranking. "
   ]
  },
  {
   "cell_type": "code",
   "execution_count": 7,
   "metadata": {},
   "outputs": [],
   "source": [
    "# Constants\n",
    "OVERVOTE = 'overvote'\n",
    "UNDERVOTE = 'undervote'\n",
    "\n",
    "# Helper functions\n",
    "def ballot_has_two_consecutive_skipped_rankings(ballot):\n",
    "    highest_continuing_rank = ballot['highest_continuing_rank']\n",
    "    if highest_continuing_rank < 3:\n",
    "        return False\n",
    "    else:\n",
    "        rank_one_before = \"rank{}\".format(highest_continuing_rank - 1)\n",
    "        rank_two_before = \"rank{}\".format(highest_continuing_rank - 2)\n",
    "    return (ballot[rank_one_before] == UNDERVOTE) and (ballot[rank_two_before] == UNDERVOTE)\n",
    "\n",
    "def ballot_exhausted_for_overvote(ballot):\n",
    "    highest_continuing_rank = ballot['highest_continuing_rank']\n",
    "    if highest_continuing_rank in {1,2,3,4,5}:\n",
    "        return ballot[\"rank{}\".format(highest_continuing_rank)] == OVERVOTE\n",
    "    else:\n",
    "        return False\n",
    "\n",
    "def mark_exhausted_ballots(continuing_ballot_df, continuing_candidate_set):\n",
    "    # determine which ballot rank a continuing candidate according to https://legislature.maine.gov/statutes/21-A/title21-Asec723-A.html\n",
    "    ranks_a_continuing_candidate = (continuing_ballot_df['rank1'].isin(continuing_candidate_set)\n",
    "        | continuing_ballot_df['rank2'].isin(continuing_candidate_set)\n",
    "        | continuing_ballot_df['rank3'].isin(continuing_candidate_set)\n",
    "        | continuing_ballot_df['rank4'].isin(continuing_candidate_set)\n",
    "        | continuing_ballot_df['rank5'].isin(continuing_candidate_set))\n",
    "    continuing_ballot_df['does_not_rank_any_continuing_candidate'] = ~ranks_a_continuing_candidate\n",
    "    n_exhausted_no_rank = continuing_ballot_df['does_not_rank_any_continuing_candidate'].value_counts()[True]\n",
    "    print(n_exhausted_no_rank, \"ballots exhausted for not ranking any continuing candidate. ({:.2%} of total ballots)\".format(n_exhausted_no_rank/n_ballots))\n",
    "    \n",
    "    # determine the highest continuing rank according to https://legislature.maine.gov/statutes/21-A/title21-Asec723-A.html\n",
    "    # E. \"Highest continuing ranking\" means the highest ranking on a voter's ballot for a continuing candidate.   [IB 2015, c. 3, §5 (NEW).]\n",
    "    continuing_ballot_df['highest_continuing_rank'] = 6 # defaults to 6 so that if the ballot is all undervotes, then ballot_has_two_consecutive_skipped_rankings will catch it\n",
    "    for rank_idx in range(5, 0, -1):\n",
    "        continuing_ballot_df['rank_choice_in_continuing_candidate_set'] = continuing_ballot_df[\"rank{}\".format(rank_idx)].isin(continuing_candidate_set | {OVERVOTE})\n",
    "        continuing_ballot_df.loc[continuing_ballot_df['rank_choice_in_continuing_candidate_set'], 'highest_continuing_rank'] = rank_idx\n",
    "    \n",
    "    # determine which ballots have an overvote at their highest continuing ranking according to https://legislature.maine.gov/statutes/21-A/title21-Asec723-A.html\n",
    "    # H. \"Overvote\" means a circumstance in which a voter has ranked more than one candidate at the same ranking.   [IB 2015, c. 3, §5 (NEW).]\n",
    "    continuing_ballot_df['overvote'] = continuing_ballot_df.apply(lambda ballot: ballot_exhausted_for_overvote(ballot), axis=1)\n",
    "    n_exhausted_overvote = continuing_ballot_df['overvote'].value_counts()[True]\n",
    "    print(n_exhausted_overvote, \"ballots exhausted for overvotes. ({:.2%} of total ballots)\".format(n_exhausted_overvote/n_ballots))\n",
    "     \n",
    "    continuing_ballot_df['two_consecutive_skipped_rankings'] = continuing_ballot_df.apply(lambda ballot: ballot_has_two_consecutive_skipped_rankings(ballot), axis=1)\n",
    "    n_exhausted_skipped = continuing_ballot_df['two_consecutive_skipped_rankings'].value_counts()[True]    \n",
    "    print(n_exhausted_skipped, \"ballots exhausted for two consecutive skipped rankings. ({:.2%} of total ballots)\".format(n_exhausted_skipped/n_ballots))\n",
    "    \n",
    "    continuing_ballot_df['exhausted'] = continuing_ballot_df['overvote'] | continuing_ballot_df['two_consecutive_skipped_rankings'] | continuing_ballot_df['does_not_rank_any_continuing_candidate']\n",
    "    n_exhausted = continuing_ballot_df['exhausted'].value_counts()[True]\n",
    "    print(n_exhausted, \"total ballots exhausted.({:.2%} of total ballots)\".format(n_exhausted/n_ballots))\n",
    "    return continuing_ballot_df"
   ]
  },
  {
   "cell_type": "markdown",
   "metadata": {},
   "source": [
    "## Procedure\n",
    "Note: in its current form this script follows the \"procedure\" section of the [statute](https://legislature.maine.gov/statutes/21-A/title21-Asec723-A.html). Therefore it does not implement batch elimination, which seems to have been in 2018 used based on the Maine SOS [summary report](https://www.maine.gov/sos/cec/elec/results/2018/updated-summary-report-CD2.xls) having only two rounds. This doesn't effect the outcome, but if one wanted to make arguements based on number of ballots exhausted per round it would make sense to implement batch elimination.\n",
    "\n",
    ">Except as provided in subsections 3 and 4, the following procedures are used to determine the winner of an election determined by ranked-choice voting. The ranked‑choice voting count must proceed in rounds. In each round, the number of votes for each continuing candidate must be counted. Each continuing ballot counts as one vote for its highest-ranked continuing candidate for that round. Exhausted ballots are not counted for any continuing candidate. The round then ends with one of the following 2 potential outcomes.\n",
    "\n",
    ">A. If there are 2 or fewer continuing candidates, the candidate with the most votes is declared the winner of the election.   [IB 2015, c. 3, §5 (NEW).]\n",
    "\n",
    ">B. If there are more than 2 continuing candidates, the last-place candidate is defeated and a new round begins.   [IB 2015, c. 3, §5 (NEW).]"
   ]
  },
  {
   "cell_type": "code",
   "execution_count": 8,
   "metadata": {},
   "outputs": [
    {
     "name": "stdout",
     "output_type": "stream",
     "text": [
      "\n",
      "Starting Round 1\n",
      "Determining which ballots are exhausted\n",
      "5928 ballots exhausted for not ranking any continuing candidate. (2.00% of total ballots)\n",
      "462 ballots exhausted for overvotes. (0.16% of total ballots)\n",
      "6018 ballots exhausted for two consecutive skipped rankings. (2.03% of total ballots)\n",
      "6453 total ballots exhausted.(2.18% of total ballots)\n",
      "Hoar, William R.S. was eliminated.\n",
      "\n",
      "Starting Round 2\n",
      "Determining which ballots are exhausted\n",
      "2130 ballots exhausted for not ranking any continuing candidate. (0.72% of total ballots)\n",
      "27 ballots exhausted for overvotes. (0.01% of total ballots)\n",
      "2044 ballots exhausted for two consecutive skipped rankings. (0.69% of total ballots)\n",
      "2162 total ballots exhausted.(0.73% of total ballots)\n",
      "Bond, Tiffany L. was eliminated.\n",
      "\n",
      "Starting Round 3\n",
      "Determining which ballots are exhausted\n",
      "5991 ballots exhausted for not ranking any continuing candidate. (2.02% of total ballots)\n",
      "123 ballots exhausted for overvotes. (0.04% of total ballots)\n",
      "5728 ballots exhausted for two consecutive skipped rankings. (1.93% of total ballots)\n",
      "6088 total ballots exhausted.(2.06% of total ballots)\n",
      "DEM Golden, Jared F. won!\n"
     ]
    },
    {
     "data": {
      "text/html": [
       "<div>\n",
       "<style scoped>\n",
       "    .dataframe tbody tr th:only-of-type {\n",
       "        vertical-align: middle;\n",
       "    }\n",
       "\n",
       "    .dataframe tbody tr th {\n",
       "        vertical-align: top;\n",
       "    }\n",
       "\n",
       "    .dataframe thead th {\n",
       "        text-align: right;\n",
       "    }\n",
       "</style>\n",
       "<table border=\"1\" class=\"dataframe\">\n",
       "  <thead>\n",
       "    <tr style=\"text-align: right;\">\n",
       "      <th></th>\n",
       "      <th>1</th>\n",
       "      <th>2</th>\n",
       "      <th>3</th>\n",
       "    </tr>\n",
       "  </thead>\n",
       "  <tbody>\n",
       "    <tr>\n",
       "      <th>REP Poliquin, Bruce</th>\n",
       "      <td>134184</td>\n",
       "      <td>135073.0</td>\n",
       "      <td>138932.0</td>\n",
       "    </tr>\n",
       "    <tr>\n",
       "      <th>DEM Golden, Jared F.</th>\n",
       "      <td>132013</td>\n",
       "      <td>133216.0</td>\n",
       "      <td>142442.0</td>\n",
       "    </tr>\n",
       "    <tr>\n",
       "      <th>Bond, Tiffany L.</th>\n",
       "      <td>16552</td>\n",
       "      <td>19173.0</td>\n",
       "      <td>NaN</td>\n",
       "    </tr>\n",
       "    <tr>\n",
       "      <th>Hoar, William R.S.</th>\n",
       "      <td>6875</td>\n",
       "      <td>NaN</td>\n",
       "      <td>NaN</td>\n",
       "    </tr>\n",
       "  </tbody>\n",
       "</table>\n",
       "</div>"
      ],
      "text/plain": [
       "                           1         2         3\n",
       "REP Poliquin, Bruce   134184  135073.0  138932.0\n",
       "DEM Golden, Jared F.  132013  133216.0  142442.0\n",
       "Bond, Tiffany L.       16552   19173.0       NaN\n",
       "Hoar, William R.S.      6875       NaN       NaN"
      ]
     },
     "execution_count": 8,
     "metadata": {},
     "output_type": "execute_result"
    }
   ],
   "source": [
    "decided = False\n",
    "round_index = 1\n",
    "votes_by_round_df = pd.DataFrame()\n",
    "continuing_ballot_df = ballot_df\n",
    "round_to_ballot_df = {}\n",
    "\n",
    "def get_highest_ranked_candidate(ballot):\n",
    "    rank_idx = ballot['highest_continuing_rank']\n",
    "    if rank_idx in {1,2,3,4,5}:\n",
    "        return ballot[\"rank{}\".format(rank_idx)]\n",
    "    else:\n",
    "        return False\n",
    "\n",
    "while not decided:\n",
    "    print(\"\\nStarting Round\", round_index)\n",
    "\n",
    "    # determine which ballots are exhausted\n",
    "    print(\"Determining which ballots are exhausted\")\n",
    "    continuing_ballot_df_exhausted_marked = mark_exhausted_ballots(continuing_ballot_df, continuing_candidate_set)\n",
    "    \n",
    "    # determine the highest ranked continuing candidate for each ballot\n",
    "    continuing_ballot_df['highest_ranked_continuing_candidate'] = continuing_ballot_df.apply(lambda ballot: get_highest_ranked_candidate(ballot), axis=1)  \n",
    "    # record this round's ballot dataframe for analysis\n",
    "    round_to_ballot_df[round_index] = continuing_ballot_df_exhausted_marked\n",
    "    \n",
    "    # remove exhausted ballots from consideration\n",
    "    continuing_ballot_df = pd.DataFrame(continuing_ballot_df_exhausted_marked[~continuing_ballot_df_exhausted_marked['exhausted']])\n",
    "    assert set(continuing_ballot_df['highest_ranked_continuing_candidate'].unique()) <= continuing_candidate_set\n",
    "                                                                              \n",
    "    # for each continuing ballot, assign one vote for its highest ranked continuing candidate                              \n",
    "    votes_by_round_df[round_index] = continuing_ballot_df['highest_ranked_continuing_candidate'].value_counts()\n",
    "\n",
    "    if len(continuing_candidate_set) <= 2:\n",
    "        decided = True\n",
    "        winning_candidate = votes_by_round_df[votes_by_round_df[round_index]==votes_by_round_df[round_index].max()].index[0]\n",
    "        print(winning_candidate, \"won!\")\n",
    "    else:\n",
    "        # Eliminate the continuing candidate with the fewest\n",
    "        eliminated_candidate = votes_by_round_df[votes_by_round_df[round_index]==votes_by_round_df[round_index].min()].index[0]\n",
    "        continuing_candidate_set.remove(eliminated_candidate)\n",
    "        print(eliminated_candidate, \"was eliminated.\")\n",
    "    round_index += 1\n",
    "                                                                              \n",
    "votes_by_round_df"
   ]
  },
  {
   "cell_type": "markdown",
   "metadata": {},
   "source": [
    "## Data Analysis\n",
    "1) What percentage of voters expressed first-choice support for each of the four candidates?"
   ]
  },
  {
   "cell_type": "code",
   "execution_count": 9,
   "metadata": {},
   "outputs": [
    {
     "data": {
      "text/html": [
       "<div>\n",
       "<style scoped>\n",
       "    .dataframe tbody tr th:only-of-type {\n",
       "        vertical-align: middle;\n",
       "    }\n",
       "\n",
       "    .dataframe tbody tr th {\n",
       "        vertical-align: top;\n",
       "    }\n",
       "\n",
       "    .dataframe thead th {\n",
       "        text-align: right;\n",
       "    }\n",
       "</style>\n",
       "<table border=\"1\" class=\"dataframe\">\n",
       "  <thead>\n",
       "    <tr style=\"text-align: right;\">\n",
       "      <th></th>\n",
       "      <th>pct_votes_first_choice</th>\n",
       "      <th>pct_votes_rank1</th>\n",
       "      <th>pct_delta</th>\n",
       "    </tr>\n",
       "  </thead>\n",
       "  <tbody>\n",
       "    <tr>\n",
       "      <th>REP Poliquin, Bruce</th>\n",
       "      <td>45.36%</td>\n",
       "      <td>45.26%</td>\n",
       "      <td>0.11%</td>\n",
       "    </tr>\n",
       "    <tr>\n",
       "      <th>DEM Golden, Jared F.</th>\n",
       "      <td>44.61%</td>\n",
       "      <td>44.52%</td>\n",
       "      <td>0.09%</td>\n",
       "    </tr>\n",
       "    <tr>\n",
       "      <th>Bond, Tiffany L.</th>\n",
       "      <td>5.60%</td>\n",
       "      <td>5.54%</td>\n",
       "      <td>0.06%</td>\n",
       "    </tr>\n",
       "    <tr>\n",
       "      <th>Hoar, William R.S.</th>\n",
       "      <td>2.34%</td>\n",
       "      <td>2.29%</td>\n",
       "      <td>0.05%</td>\n",
       "    </tr>\n",
       "    <tr>\n",
       "      <th>undervote</th>\n",
       "      <td>nan%</td>\n",
       "      <td>2.24%</td>\n",
       "      <td>nan%</td>\n",
       "    </tr>\n",
       "    <tr>\n",
       "      <th>overvote</th>\n",
       "      <td>0.16%</td>\n",
       "      <td>0.14%</td>\n",
       "      <td>0.01%</td>\n",
       "    </tr>\n",
       "  </tbody>\n",
       "</table>\n",
       "</div>"
      ],
      "text/plain": [
       "                     pct_votes_first_choice pct_votes_rank1 pct_delta\n",
       "REP Poliquin, Bruce                  45.36%          45.26%     0.11%\n",
       "DEM Golden, Jared F.                 44.61%          44.52%     0.09%\n",
       "Bond, Tiffany L.                      5.60%           5.54%     0.06%\n",
       "Hoar, William R.S.                    2.34%           2.29%     0.05%\n",
       "undervote                              nan%           2.24%      nan%\n",
       "overvote                              0.16%           0.14%     0.01%"
      ]
     },
     "execution_count": 9,
     "metadata": {},
     "output_type": "execute_result"
    }
   ],
   "source": [
    "r1 = round_to_ballot_df[1]\n",
    "df = pd.DataFrame()\n",
    "df['n_votes_rank1'] = r1['rank1'].value_counts()\n",
    "df['dec_votes_rank1'] = df['n_votes_rank1'] /n_ballots\n",
    "df['pct_votes_rank1'] = df['dec_votes_rank1'].map('{:.2%}'.format)\n",
    "\n",
    "df['n_votes_first_choice'] = r1['highest_ranked_continuing_candidate'].value_counts()\n",
    "df['dec_votes_first_choice'] = df['n_votes_first_choice'] /n_ballots\n",
    "df['pct_votes_first_choice'] = df['dec_votes_first_choice'].map('{:.2%}'.format)\n",
    "\n",
    "df['dec_delta'] = df['dec_votes_first_choice'] - df['dec_votes_rank1']\n",
    "df['pct_delta'] = df['dec_delta'].map('{:.2%}'.format)\n",
    "\n",
    "df[['pct_votes_first_choice', 'pct_votes_rank1', 'pct_delta']]"
   ]
  },
  {
   "cell_type": "markdown",
   "metadata": {},
   "source": [
    "2) What percentage of voters expressed support at any ranking for each of the four candidates?"
   ]
  },
  {
   "cell_type": "code",
   "execution_count": 10,
   "metadata": {},
   "outputs": [
    {
     "name": "stdout",
     "output_type": "stream",
     "text": [
      "Percentage of voters expressing support at any ranking (with duplicates)\n"
     ]
    },
    {
     "data": {
      "text/html": [
       "<div>\n",
       "<style scoped>\n",
       "    .dataframe tbody tr th:only-of-type {\n",
       "        vertical-align: middle;\n",
       "    }\n",
       "\n",
       "    .dataframe tbody tr th {\n",
       "        vertical-align: top;\n",
       "    }\n",
       "\n",
       "    .dataframe thead th {\n",
       "        text-align: right;\n",
       "    }\n",
       "</style>\n",
       "<table border=\"1\" class=\"dataframe\">\n",
       "  <thead>\n",
       "    <tr style=\"text-align: right;\">\n",
       "      <th></th>\n",
       "      <th>pct_votes</th>\n",
       "      <th>n_votes_total</th>\n",
       "    </tr>\n",
       "  </thead>\n",
       "  <tbody>\n",
       "    <tr>\n",
       "      <th>REP Poliquin, Bruce</th>\n",
       "      <td>72.23%</td>\n",
       "      <td>213847</td>\n",
       "    </tr>\n",
       "    <tr>\n",
       "      <th>DEM Golden, Jared F.</th>\n",
       "      <td>64.72%</td>\n",
       "      <td>191618</td>\n",
       "    </tr>\n",
       "    <tr>\n",
       "      <th>Bond, Tiffany L.</th>\n",
       "      <td>45.05%</td>\n",
       "      <td>133377</td>\n",
       "    </tr>\n",
       "    <tr>\n",
       "      <th>Hoar, William R.S.</th>\n",
       "      <td>40.81%</td>\n",
       "      <td>120816</td>\n",
       "    </tr>\n",
       "    <tr>\n",
       "      <th>undervote</th>\n",
       "      <td>276.50%</td>\n",
       "      <td>818651</td>\n",
       "    </tr>\n",
       "    <tr>\n",
       "      <th>overvote</th>\n",
       "      <td>0.70%</td>\n",
       "      <td>2076</td>\n",
       "    </tr>\n",
       "  </tbody>\n",
       "</table>\n",
       "</div>"
      ],
      "text/plain": [
       "                     pct_votes  n_votes_total\n",
       "REP Poliquin, Bruce     72.23%         213847\n",
       "DEM Golden, Jared F.    64.72%         191618\n",
       "Bond, Tiffany L.        45.05%         133377\n",
       "Hoar, William R.S.      40.81%         120816\n",
       "undervote              276.50%         818651\n",
       "overvote                 0.70%           2076"
      ]
     },
     "execution_count": 10,
     "metadata": {},
     "output_type": "execute_result"
    }
   ],
   "source": [
    "# without removing duplicates\n",
    "r1 = round_to_ballot_df[1]\n",
    "df2 = pd.DataFrame()\n",
    "df2['n_votes_rank1'] = r1['rank1'].value_counts()\n",
    "df2['n_votes_rank2'] = r1['rank2'].value_counts()\n",
    "df2['n_votes_rank3'] = r1['rank3'].value_counts()\n",
    "df2['n_votes_rank4'] = r1['rank4'].value_counts()\n",
    "df2['n_votes_rank5'] = r1['rank5'].value_counts()\n",
    "df2['n_votes_total'] = df2.sum(axis=1)\n",
    "df2['dec_votes'] = df2['n_votes_total'] /n_ballots\n",
    "df2['pct_votes'] = df2['dec_votes'].map('{:.2%}'.format)\n",
    "print(\"Percentage of voters expressing support at any ranking (with duplicates)\")\n",
    "df2[['pct_votes', 'n_votes_total']]"
   ]
  },
  {
   "cell_type": "code",
   "execution_count": 11,
   "metadata": {},
   "outputs": [
    {
     "name": "stdout",
     "output_type": "stream",
     "text": [
      "Percentage of voters expressing support at any ranking (no duplicates)\n"
     ]
    },
    {
     "data": {
      "text/html": [
       "<div>\n",
       "<style scoped>\n",
       "    .dataframe tbody tr th:only-of-type {\n",
       "        vertical-align: middle;\n",
       "    }\n",
       "\n",
       "    .dataframe tbody tr th {\n",
       "        vertical-align: top;\n",
       "    }\n",
       "\n",
       "    .dataframe thead th {\n",
       "        text-align: right;\n",
       "    }\n",
       "</style>\n",
       "<table border=\"1\" class=\"dataframe\">\n",
       "  <thead>\n",
       "    <tr style=\"text-align: right;\">\n",
       "      <th></th>\n",
       "      <th>pct_votes_no_dups</th>\n",
       "      <th>n_votes_total_no_dups</th>\n",
       "    </tr>\n",
       "  </thead>\n",
       "  <tbody>\n",
       "    <tr>\n",
       "      <th>REP Poliquin, Bruce</th>\n",
       "      <td>64.05%</td>\n",
       "      <td>189627</td>\n",
       "    </tr>\n",
       "    <tr>\n",
       "      <th>DEM Golden, Jared F.</th>\n",
       "      <td>60.95%</td>\n",
       "      <td>180457</td>\n",
       "    </tr>\n",
       "    <tr>\n",
       "      <th>Bond, Tiffany L.</th>\n",
       "      <td>44.45%</td>\n",
       "      <td>131602</td>\n",
       "    </tr>\n",
       "    <tr>\n",
       "      <th>Hoar, William R.S.</th>\n",
       "      <td>40.45%</td>\n",
       "      <td>119754</td>\n",
       "    </tr>\n",
       "    <tr>\n",
       "      <th>undervote</th>\n",
       "      <td>96.83%</td>\n",
       "      <td>286682</td>\n",
       "    </tr>\n",
       "    <tr>\n",
       "      <th>overvote</th>\n",
       "      <td>0.67%</td>\n",
       "      <td>1994</td>\n",
       "    </tr>\n",
       "  </tbody>\n",
       "</table>\n",
       "</div>"
      ],
      "text/plain": [
       "                     pct_votes_no_dups  n_votes_total_no_dups\n",
       "REP Poliquin, Bruce             64.05%                 189627\n",
       "DEM Golden, Jared F.            60.95%                 180457\n",
       "Bond, Tiffany L.                44.45%                 131602\n",
       "Hoar, William R.S.              40.45%                 119754\n",
       "undervote                       96.83%                 286682\n",
       "overvote                         0.67%                   1994"
      ]
     },
     "execution_count": 11,
     "metadata": {},
     "output_type": "execute_result"
    }
   ],
   "source": [
    "# removing duplicates\n",
    "candidate_to_votes = {}\n",
    "for candidate in unique_candidate_set:\n",
    "    candidate_to_votes[candidate] = ballot_df.apply(lambda ballot: candidate in set(ballot), axis=1).sum()\n",
    "df2['n_votes_total_no_dups'] = df2.index.map(candidate_to_votes)\n",
    "df2['dec_votes_no_dups'] = df2['n_votes_total_no_dups'] /n_ballots\n",
    "df2['pct_votes_no_dups'] = df2['dec_votes_no_dups'].map('{:.2%}'.format)\n",
    "print(\"Percentage of voters expressing support at any ranking (no duplicates)\")\n",
    "df2[['pct_votes_no_dups', 'n_votes_total_no_dups']]"
   ]
  },
  {
   "cell_type": "code",
   "execution_count": 12,
   "metadata": {},
   "outputs": [
    {
     "name": "stdout",
     "output_type": "stream",
     "text": [
      "Percentage of voters expressing support at any ranking (compare duplicates vs. no duplicates)\n"
     ]
    },
    {
     "data": {
      "text/html": [
       "<div>\n",
       "<style scoped>\n",
       "    .dataframe tbody tr th:only-of-type {\n",
       "        vertical-align: middle;\n",
       "    }\n",
       "\n",
       "    .dataframe tbody tr th {\n",
       "        vertical-align: top;\n",
       "    }\n",
       "\n",
       "    .dataframe thead th {\n",
       "        text-align: right;\n",
       "    }\n",
       "</style>\n",
       "<table border=\"1\" class=\"dataframe\">\n",
       "  <thead>\n",
       "    <tr style=\"text-align: right;\">\n",
       "      <th></th>\n",
       "      <th>pct_votes</th>\n",
       "      <th>pct_votes_no_dups</th>\n",
       "      <th>pct_delta</th>\n",
       "    </tr>\n",
       "  </thead>\n",
       "  <tbody>\n",
       "    <tr>\n",
       "      <th>REP Poliquin, Bruce</th>\n",
       "      <td>72.23%</td>\n",
       "      <td>64.05%</td>\n",
       "      <td>8.18%</td>\n",
       "    </tr>\n",
       "    <tr>\n",
       "      <th>DEM Golden, Jared F.</th>\n",
       "      <td>64.72%</td>\n",
       "      <td>60.95%</td>\n",
       "      <td>3.77%</td>\n",
       "    </tr>\n",
       "    <tr>\n",
       "      <th>Bond, Tiffany L.</th>\n",
       "      <td>45.05%</td>\n",
       "      <td>44.45%</td>\n",
       "      <td>0.60%</td>\n",
       "    </tr>\n",
       "    <tr>\n",
       "      <th>Hoar, William R.S.</th>\n",
       "      <td>40.81%</td>\n",
       "      <td>40.45%</td>\n",
       "      <td>0.36%</td>\n",
       "    </tr>\n",
       "    <tr>\n",
       "      <th>undervote</th>\n",
       "      <td>276.50%</td>\n",
       "      <td>96.83%</td>\n",
       "      <td>179.67%</td>\n",
       "    </tr>\n",
       "    <tr>\n",
       "      <th>overvote</th>\n",
       "      <td>0.70%</td>\n",
       "      <td>0.67%</td>\n",
       "      <td>0.03%</td>\n",
       "    </tr>\n",
       "  </tbody>\n",
       "</table>\n",
       "</div>"
      ],
      "text/plain": [
       "                     pct_votes pct_votes_no_dups pct_delta\n",
       "REP Poliquin, Bruce     72.23%            64.05%     8.18%\n",
       "DEM Golden, Jared F.    64.72%            60.95%     3.77%\n",
       "Bond, Tiffany L.        45.05%            44.45%     0.60%\n",
       "Hoar, William R.S.      40.81%            40.45%     0.36%\n",
       "undervote              276.50%            96.83%   179.67%\n",
       "overvote                 0.70%             0.67%     0.03%"
      ]
     },
     "execution_count": 12,
     "metadata": {},
     "output_type": "execute_result"
    }
   ],
   "source": [
    "df2['dec_delta'] = df2['dec_votes'] - df2['dec_votes_no_dups']\n",
    "df2['pct_delta'] = df2['dec_delta'].map('{:.2%}'.format)\n",
    "print(\"Percentage of voters expressing support at any ranking (compare duplicates vs. no duplicates)\")\n",
    "df2[['pct_votes','pct_votes_no_dups', 'pct_delta']]"
   ]
  },
  {
   "cell_type": "markdown",
   "metadata": {},
   "source": [
    "3) Calculate histograms of how many choices were made by voters, stratified by their first choice. This will test if Golden and Poliquin first-choice voters tended to truncate their ballots, or if Hoar and Bond first-choice voters tended to exercise their lower-rank option more. "
   ]
  },
  {
   "cell_type": "code",
   "execution_count": 13,
   "metadata": {},
   "outputs": [],
   "source": [
    "import matplotlib.pyplot as plt\n",
    "from scipy import stats\n",
    "import numpy as np"
   ]
  },
  {
   "cell_type": "code",
   "execution_count": 14,
   "metadata": {},
   "outputs": [],
   "source": [
    "def get_n_unique_choices(ballot):\n",
    "    choices = {ballot[\"rank{}\".format(rank_idx)] for rank_idx in range(1,6)}\n",
    "    candidate_choices = choices & candidate_set\n",
    "    return len(candidate_choices)\n",
    "\n",
    "r1 = round_to_ballot_df[1]\n",
    "r1['n_choices'] = r1.apply(get_n_unique_choices,axis=1)"
   ]
  },
  {
   "cell_type": "code",
   "execution_count": 15,
   "metadata": {},
   "outputs": [
    {
     "data": {
      "text/html": [
       "<div>\n",
       "<style scoped>\n",
       "    .dataframe tbody tr th:only-of-type {\n",
       "        vertical-align: middle;\n",
       "    }\n",
       "\n",
       "    .dataframe tbody tr th {\n",
       "        vertical-align: top;\n",
       "    }\n",
       "\n",
       "    .dataframe thead th {\n",
       "        text-align: right;\n",
       "    }\n",
       "</style>\n",
       "<table border=\"1\" class=\"dataframe\">\n",
       "  <thead>\n",
       "    <tr style=\"text-align: right;\">\n",
       "      <th>First Choice Candidate</th>\n",
       "      <th>Bond, Tiffany L.</th>\n",
       "      <th>REP Poliquin, Bruce</th>\n",
       "      <th>DEM Golden, Jared F.</th>\n",
       "      <th>Hoar, William R.S.</th>\n",
       "      <th>Golden/Jared</th>\n",
       "      <th>Bond/Hoar</th>\n",
       "    </tr>\n",
       "    <tr>\n",
       "      <th>Number of choices expressed on ballot</th>\n",
       "      <th></th>\n",
       "      <th></th>\n",
       "      <th></th>\n",
       "      <th></th>\n",
       "      <th></th>\n",
       "      <th></th>\n",
       "    </tr>\n",
       "  </thead>\n",
       "  <tbody>\n",
       "    <tr>\n",
       "      <th>1</th>\n",
       "      <td>4379</td>\n",
       "      <td>89650</td>\n",
       "      <td>51643</td>\n",
       "      <td>2159</td>\n",
       "      <td>141293</td>\n",
       "      <td>6538</td>\n",
       "    </tr>\n",
       "    <tr>\n",
       "      <th>2</th>\n",
       "      <td>2748</td>\n",
       "      <td>8895</td>\n",
       "      <td>17296</td>\n",
       "      <td>1056</td>\n",
       "      <td>26191</td>\n",
       "      <td>3804</td>\n",
       "    </tr>\n",
       "    <tr>\n",
       "      <th>3</th>\n",
       "      <td>2296</td>\n",
       "      <td>6588</td>\n",
       "      <td>25396</td>\n",
       "      <td>890</td>\n",
       "      <td>31984</td>\n",
       "      <td>3186</td>\n",
       "    </tr>\n",
       "    <tr>\n",
       "      <th>4</th>\n",
       "      <td>7158</td>\n",
       "      <td>29182</td>\n",
       "      <td>37756</td>\n",
       "      <td>2812</td>\n",
       "      <td>66938</td>\n",
       "      <td>9970</td>\n",
       "    </tr>\n",
       "  </tbody>\n",
       "</table>\n",
       "</div>"
      ],
      "text/plain": [
       "First Choice Candidate                 Bond, Tiffany L.  REP Poliquin, Bruce  \\\n",
       "Number of choices expressed on ballot                                          \n",
       "1                                                  4379                89650   \n",
       "2                                                  2748                 8895   \n",
       "3                                                  2296                 6588   \n",
       "4                                                  7158                29182   \n",
       "\n",
       "First Choice Candidate                 DEM Golden, Jared F.  \\\n",
       "Number of choices expressed on ballot                         \n",
       "1                                                     51643   \n",
       "2                                                     17296   \n",
       "3                                                     25396   \n",
       "4                                                     37756   \n",
       "\n",
       "First Choice Candidate                 Hoar, William R.S.  Golden/Jared  \\\n",
       "Number of choices expressed on ballot                                     \n",
       "1                                                    2159        141293   \n",
       "2                                                    1056         26191   \n",
       "3                                                     890         31984   \n",
       "4                                                    2812         66938   \n",
       "\n",
       "First Choice Candidate                 Bond/Hoar  \n",
       "Number of choices expressed on ballot             \n",
       "1                                           6538  \n",
       "2                                           3804  \n",
       "3                                           3186  \n",
       "4                                           9970  "
      ]
     },
     "execution_count": 15,
     "metadata": {},
     "output_type": "execute_result"
    }
   ],
   "source": [
    "r1 = round_to_ballot_df[1]\n",
    "df = r1\n",
    "df = df.rename(columns={'highest_ranked_continuing_candidate':'First Choice Candidate', 'n_choices':\"Number of choices expressed on ballot\"})\n",
    "ct = pd.crosstab(df[\"Number of choices expressed on ballot\"], df['First Choice Candidate'])\n",
    "ct = ct[ct.index.isin([1,2,3,4])][list(candidate_set)]\n",
    "ct['Golden/Jared'] = ct['DEM Golden, Jared F.'] + ct['REP Poliquin, Bruce']\n",
    "ct['Bond/Hoar'] = ct['Bond, Tiffany L.'] + ct['Hoar, William R.S.']\n",
    "dec_ct = ct / ct.sum()\n",
    "ct"
   ]
  },
  {
   "cell_type": "code",
   "execution_count": 16,
   "metadata": {},
   "outputs": [
    {
     "data": {
      "image/png": "[encoded data removed]",
      "text/plain": [
       "<Figure size 432x288 with 1 Axes>"
      ]
     },
     "metadata": {
      "needs_background": "light"
     },
     "output_type": "display_data"
    }
   ],
   "source": [
    "dec_ct[['Bond, Tiffany L.',\n",
    " 'DEM Golden, Jared F.',\n",
    " 'Hoar, William R.S.',\n",
    " 'REP Poliquin, Bruce']].plot.bar().legend(loc=9)\n",
    "plt.ylabel('Fraction of ballots')\n",
    "plt.show()"
   ]
  },
  {
   "cell_type": "code",
   "execution_count": 17,
   "metadata": {},
   "outputs": [
    {
     "data": {
      "image/png": "[encoded data removed]",
      "text/plain": [
       "<Figure size 432x288 with 1 Axes>"
      ]
     },
     "metadata": {
      "needs_background": "light"
     },
     "output_type": "display_data"
    }
   ],
   "source": [
    "dec_ct[['Golden/Jared', 'Bond/Hoar']].plot.bar().legend(loc=9)\n",
    "plt.ylabel('Fraction of ballots')\n",
    "plt.show()"
   ]
  },
  {
   "cell_type": "code",
   "execution_count": 18,
   "metadata": {},
   "outputs": [
    {
     "data": {
      "image/png": "[encoded data removed]",
      "text/plain": [
       "<Figure size 1332x756 with 6 Axes>"
      ]
     },
     "metadata": {
      "needs_background": "light"
     },
     "output_type": "display_data"
    }
   ],
   "source": [
    "fig, axs = plt.subplots(2,3)\n",
    "axs = axs.flatten()\n",
    "for idx, col in enumerate(dec_ct.columns):\n",
    "    dec_ct[col].plot.bar(ax=axs[idx]).legend(loc=9)\n",
    "fig.set_size_inches(18.5, 10.5)"
   ]
  },
  {
   "cell_type": "markdown",
   "metadata": {},
   "source": [
    "#### Sam style cumulative histograms for Kolmogorov–Smirnov significance testing"
   ]
  },
  {
   "cell_type": "code",
   "execution_count": 19,
   "metadata": {},
   "outputs": [],
   "source": [
    "# Helper Functions\n",
    "def ax_superimpose(ax, dataset, alpha=.05):\n",
    "    for title, data in dataset:\n",
    "        x = data.sort_values()\n",
    "        l = len(data)\n",
    "        y = [x/l for x in range(l)]\n",
    "        p = ax.plot(x, y, label=title)\n",
    "        color = p[0].get_color()\n",
    "        mean_voteshare = np.mean(x)\n",
    "        ax.legend(prop={'size': 10}, loc=4)\n",
    "        ax.text((mean_voteshare -.0075), -.2, 'AVG.', fontsize=14, color=color)\n",
    "        ax.axvline(x=mean_voteshare, color=color)\n",
    "    D_max, p_value = stats.ks_2samp(dataset[0][1],dataset[1][1])\n",
    "    significant = p_value < alpha \n",
    "    ax.text(3.3, .13, 'KS P={0:.5f}'.format(p_value), fontsize=14, color='red' if significant else 'black')\n",
    "\n",
    "def compare(data, pairs=[(0,1),(0,2),(1,3),(2,3)]):\n",
    "    fig, axs = plt.subplots(2,2)\n",
    "    axs = axs.flatten()\n",
    "    for idx, pair in enumerate(pairs):\n",
    "        dataset = [data[pair[0]],data[pair[1]]]\n",
    "        ax_superimpose(axs[idx], dataset)\n",
    "    fig.set_size_inches(18.5, 10.5)\n",
    "    \n",
    "def hist(ax, data, alpha=.05):\n",
    "    title, data = data\n",
    "    x = data.sort_values()\n",
    "    l = len(data)\n",
    "    y = [x/l for x in range(l)]\n",
    "    p = ax.plot(x, y, label=title)\n",
    "    color = p[0].get_color()\n",
    "    mean_voteshare = np.mean(x)\n",
    "    ax.legend(prop={'size': 10}, loc=4)\n",
    "    ax.text((mean_voteshare -.0075), -.2, 'AVG.', fontsize=14, color=color)\n",
    "    ax.axvline(x=mean_voteshare, color=color)\n",
    "\n",
    "def solo4(data):\n",
    "    fig, axs = plt.subplots(2,2)\n",
    "    axs = axs.flatten()\n",
    "    for idx in range(4):\n",
    "        hist(axs[idx], data[idx])\n",
    "    fig.set_size_inches(18.5, 10.5)\n",
    "\n",
    "def solo2(data):\n",
    "    fig, axs = plt.subplots(1,2)\n",
    "    axs = axs.flatten()\n",
    "    for idx in range(2):\n",
    "        hist(axs[idx], data[idx])\n",
    "    fig.set_size_inches(18.5, 5.5)"
   ]
  },
  {
   "cell_type": "code",
   "execution_count": 20,
   "metadata": {},
   "outputs": [],
   "source": [
    "\n",
    "df = r1\n",
    "data4 = [\n",
    "    ('DEM Golden, Jared F.', df[df['highest_ranked_continuing_candidate'] == 'DEM Golden, Jared F.']['n_choices']),\n",
    "    ('REP Poliquin, Bruce', df[df['highest_ranked_continuing_candidate'] == 'REP Poliquin, Bruce']['n_choices']),\n",
    "    ('Bond, Tiffany L.', df[df['highest_ranked_continuing_candidate'] == 'Bond, Tiffany L.']['n_choices']),\n",
    "    ('Hoar, William R.S.', df[df['highest_ranked_continuing_candidate'] == 'DEM Golden, Jared F.']['n_choices'])\n",
    "]"
   ]
  },
  {
   "cell_type": "code",
   "execution_count": 21,
   "metadata": {},
   "outputs": [
    {
     "data": {
      "image/png": "[encoded data removed]",
      "text/plain": [
       "<Figure size 1332x756 with 4 Axes>"
      ]
     },
     "metadata": {
      "needs_background": "light"
     },
     "output_type": "display_data"
    }
   ],
   "source": [
    "solo4(data4)"
   ]
  },
  {
   "cell_type": "code",
   "execution_count": 22,
   "metadata": {},
   "outputs": [
    {
     "data": {
      "image/png": "[encoded data removed]",
      "text/plain": [
       "<Figure size 1332x756 with 4 Axes>"
      ]
     },
     "metadata": {
      "needs_background": "light"
     },
     "output_type": "display_data"
    }
   ],
   "source": [
    "compare(data4)"
   ]
  },
  {
   "cell_type": "code",
   "execution_count": 23,
   "metadata": {},
   "outputs": [
    {
     "data": {
      "image/png": "[encoded data removed]",
      "text/plain": [
       "<Figure size 1332x396 with 2 Axes>"
      ]
     },
     "metadata": {
      "needs_background": "light"
     },
     "output_type": "display_data"
    }
   ],
   "source": [
    "data2 = [\n",
    "    ('Golden & Poliquin', df[df['highest_ranked_continuing_candidate'].isin({'DEM Golden, Jared F.','REP Poliquin, Bruce'})]['n_choices']),\n",
    "    ('Bond & Hoar', df[df['highest_ranked_continuing_candidate'].isin({'Bond, Tiffany L.','Hoar, William R.S.'})]['n_choices']),\n",
    "]\n",
    "solo2(data2)"
   ]
  },
  {
   "cell_type": "code",
   "execution_count": 24,
   "metadata": {},
   "outputs": [
    {
     "data": {
      "image/png": "[encoded data removed]",
      "text/plain": [
       "<Figure size 666x396 with 1 Axes>"
      ]
     },
     "metadata": {
      "needs_background": "light"
     },
     "output_type": "display_data"
    }
   ],
   "source": [
    "fig, ax = plt.subplots(1,1)\n",
    "ax_superimpose(ax, data2)\n",
    "fig.set_size_inches(9.25, 5.5)"
   ]
  }
 ],
 "metadata": {
  "kernelspec": {
   "display_name": "Python 3.7.6 64-bit ('base': conda)",
   "language": "python",
   "name": "python37664bitbasecondab593b85f5c11480fa3b5b6c64242580c"
  },
  "language_info": {
   "codemirror_mode": {
    "name": "ipython",
    "version": 3
   },
   "file_extension": ".py",
   "mimetype": "text/x-python",
   "name": "python",
   "nbconvert_exporter": "python",
   "pygments_lexer": "ipython3",
   "version": "3.7.6"
  }
 },
 "nbformat": 4,
 "nbformat_minor": 4
}
