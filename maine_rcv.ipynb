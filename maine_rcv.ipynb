{
 "cells": [
  {
   "cell_type": "markdown",
   "metadata": {},
   "source": [
    "# Maine Rank Choice Voting (RCV) Analysis \n",
    "\n",
    "Following the rules here: \n",
    "Data source: https://www.maine.gov/sos/cec/elec/results/results18.html#Nov6"
   ]
  },
  {
   "cell_type": "code",
   "execution_count": 1,
   "metadata": {},
   "outputs": [
    {
     "data": {
      "text/html": [
       "<div>\n",
       "<style scoped>\n",
       "    .dataframe tbody tr th:only-of-type {\n",
       "        vertical-align: middle;\n",
       "    }\n",
       "\n",
       "    .dataframe tbody tr th {\n",
       "        vertical-align: top;\n",
       "    }\n",
       "\n",
       "    .dataframe thead th {\n",
       "        text-align: right;\n",
       "    }\n",
       "</style>\n",
       "<table border=\"1\" class=\"dataframe\">\n",
       "  <thead>\n",
       "    <tr style=\"text-align: right;\">\n",
       "      <th></th>\n",
       "      <th>record</th>\n",
       "      <th>precinct</th>\n",
       "      <th>ballot_style</th>\n",
       "      <th>rank1</th>\n",
       "      <th>rank2</th>\n",
       "      <th>rank3</th>\n",
       "      <th>rank4</th>\n",
       "      <th>rank5</th>\n",
       "    </tr>\n",
       "  </thead>\n",
       "  <tbody>\n",
       "    <tr>\n",
       "      <th>0</th>\n",
       "      <td>1</td>\n",
       "      <td>Fayette</td>\n",
       "      <td>CAN Ballot Style 130</td>\n",
       "      <td>REP Poliquin, Bruce (5931)</td>\n",
       "      <td>REP Poliquin, Bruce</td>\n",
       "      <td>REP Poliquin, Bruce</td>\n",
       "      <td>undervote</td>\n",
       "      <td>undervote</td>\n",
       "    </tr>\n",
       "    <tr>\n",
       "      <th>1</th>\n",
       "      <td>2</td>\n",
       "      <td>Fayette</td>\n",
       "      <td>CAN Ballot Style 130</td>\n",
       "      <td>REP Poliquin, Bruce (5931)</td>\n",
       "      <td>undervote</td>\n",
       "      <td>undervote</td>\n",
       "      <td>undervote</td>\n",
       "      <td>undervote</td>\n",
       "    </tr>\n",
       "    <tr>\n",
       "      <th>2</th>\n",
       "      <td>3</td>\n",
       "      <td>Fayette</td>\n",
       "      <td>CAN Ballot Style 130</td>\n",
       "      <td>DEM Golden, Jared F. (5471)</td>\n",
       "      <td>Bond, Tiffany L.</td>\n",
       "      <td>undervote</td>\n",
       "      <td>undervote</td>\n",
       "      <td>undervote</td>\n",
       "    </tr>\n",
       "    <tr>\n",
       "      <th>3</th>\n",
       "      <td>4</td>\n",
       "      <td>Fayette</td>\n",
       "      <td>CAN Ballot Style 130</td>\n",
       "      <td>REP Poliquin, Bruce (5931)</td>\n",
       "      <td>DEM Golden, Jared F.</td>\n",
       "      <td>Bond, Tiffany L.</td>\n",
       "      <td>DEM Golden, Jared F.</td>\n",
       "      <td>Hoar, William R.S.</td>\n",
       "    </tr>\n",
       "    <tr>\n",
       "      <th>4</th>\n",
       "      <td>6</td>\n",
       "      <td>Fayette</td>\n",
       "      <td>CAN Ballot Style 130</td>\n",
       "      <td>REP Poliquin, Bruce (5931)</td>\n",
       "      <td>undervote</td>\n",
       "      <td>undervote</td>\n",
       "      <td>undervote</td>\n",
       "      <td>undervote</td>\n",
       "    </tr>\n",
       "  </tbody>\n",
       "</table>\n",
       "</div>"
      ],
      "text/plain": [
       "   record precinct          ballot_style                        rank1  \\\n",
       "0       1  Fayette  CAN Ballot Style 130   REP Poliquin, Bruce (5931)   \n",
       "1       2  Fayette  CAN Ballot Style 130   REP Poliquin, Bruce (5931)   \n",
       "2       3  Fayette  CAN Ballot Style 130  DEM Golden, Jared F. (5471)   \n",
       "3       4  Fayette  CAN Ballot Style 130   REP Poliquin, Bruce (5931)   \n",
       "4       6  Fayette  CAN Ballot Style 130   REP Poliquin, Bruce (5931)   \n",
       "\n",
       "                  rank2                rank3                 rank4  \\\n",
       "0   REP Poliquin, Bruce  REP Poliquin, Bruce             undervote   \n",
       "1             undervote            undervote             undervote   \n",
       "2      Bond, Tiffany L.            undervote             undervote   \n",
       "3  DEM Golden, Jared F.     Bond, Tiffany L.  DEM Golden, Jared F.   \n",
       "4             undervote            undervote             undervote   \n",
       "\n",
       "                rank5  \n",
       "0           undervote  \n",
       "1           undervote  \n",
       "2           undervote  \n",
       "3  Hoar, William R.S.  \n",
       "4           undervote  "
      ]
     },
     "execution_count": 1,
     "metadata": {},
     "output_type": "execute_result"
    }
   ],
   "source": [
    "import pandas as pd\n",
    "\n",
    "ballot_df = pd.read_csv('ME_all.csv')\n",
    "ballot_df.head()"
   ]
  },
  {
   "cell_type": "code",
   "execution_count": 2,
   "metadata": {},
   "outputs": [
    {
     "data": {
      "text/plain": [
       "REP Poliquin, Bruce (5931)     133793\n",
       "DEM Golden, Jared F. (5471)    131003\n",
       "Bond, Tiffany L.                16415\n",
       "Hoar, William R.S.               6782\n",
       "undervote                        6641\n",
       "DEM Golden, Jared F.              819\n",
       "overvote                          424\n",
       "REP Poliquin, Bruce               200\n",
       "Name: rank1, dtype: int64"
      ]
     },
     "execution_count": 2,
     "metadata": {},
     "output_type": "execute_result"
    }
   ],
   "source": [
    "ballot_df['rank1'].value_counts()"
   ]
  },
  {
   "cell_type": "markdown",
   "metadata": {},
   "source": [
    "## Data Cleaning"
   ]
  },
  {
   "cell_type": "code",
   "execution_count": 3,
   "metadata": {},
   "outputs": [
    {
     "data": {
      "text/plain": [
       "REP Poliquin, Bruce     133993\n",
       "DEM Golden, Jared F.    131822\n",
       "Bond, Tiffany L.         16415\n",
       "Hoar, William R.S.        6782\n",
       "undervote                 6641\n",
       "overvote                   424\n",
       "Name: rank1, dtype: int64"
      ]
     },
     "execution_count": 3,
     "metadata": {},
     "output_type": "execute_result"
    }
   ],
   "source": [
    "# remove ' (5931)'' from 'REP Poliquin, Bruce (5931)' and ' (5471)' from DEM Golden, Jared F. (5471)\n",
    "# now each candidate has exaclty one string representing a vote for them.\n",
    "ballot_df['rank1'] = ballot_df['rank1'].map(lambda choice: choice.split(' (')[0].strip())\n",
    "ballot_df.rank1.value_counts()"
   ]
  },
  {
   "cell_type": "code",
   "execution_count": 4,
   "metadata": {},
   "outputs": [
    {
     "name": "stdout",
     "output_type": "stream",
     "text": [
      "Cleaning rank2\n",
      "Cleaning rank3\n",
      "Cleaning rank4\n",
      "Cleaning rank5\n"
     ]
    }
   ],
   "source": [
    "# apply the same cleaning to all other ranks\n",
    "for index in range(2, 6):\n",
    "    rank = 'rank{}'.format(index)\n",
    "    print(\"Cleaning\", rank)\n",
    "    ballot_df[rank] = ballot_df[rank].map(lambda choice: choice.split(' (')[0].strip())"
   ]
  },
  {
   "cell_type": "code",
   "execution_count": 5,
   "metadata": {},
   "outputs": [
    {
     "data": {
      "text/plain": [
       "{'Bond, Tiffany L.',\n",
       " 'DEM Golden, Jared F.',\n",
       " 'Hoar, William R.S.',\n",
       " 'REP Poliquin, Bruce',\n",
       " 'overvote',\n",
       " 'undervote'}"
      ]
     },
     "execution_count": 5,
     "metadata": {},
     "output_type": "execute_result"
    }
   ],
   "source": [
    "# ensure strings are consistent across all columns\n",
    "unique_candidate_set = set()\n",
    "for index in range(1, 6):\n",
    "    rank = 'rank{}'.format(index)\n",
    "    rank_i_unique_candidate_set = set(ballot_df[rank].unique())\n",
    "    # take the union of unique candidates so far and unique candidates in this round\n",
    "    unique_candidate_set = unique_candidate_set | rank_i_unique_candidate_set \n",
    "unique_candidate_set"
   ]
  },
  {
   "cell_type": "markdown",
   "metadata": {},
   "source": [
    "We now see that across all ranks, each candidate is represented by exaclty one unique string."
   ]
  },
  {
   "cell_type": "markdown",
   "metadata": {},
   "source": [
    "## Definitions\n",
    "From [Tile 21-A, §723-A](https://legislature.maine.gov/statutes/21-A/title21-Asec723-A.html):\n",
    "\n",
    ">A. \"Batch elimination\" means the simultaneous defeat of multiple candidates for whom it is mathematically impossible to be elected.   [IB 2015, c. 3, §5 (NEW).]\n",
    "\n",
    ">B. \"Continuing ballot\" means a ballot that is not an exhausted ballot.   [IB 2015, c. 3, §5 (NEW).]\n",
    "\n",
    ">C. \"Continuing candidate\" means a candidate who has not been defeated.   [IB 2015, c. 3, §5 (NEW).]"
   ]
  },
  {
   "cell_type": "code",
   "execution_count": 6,
   "metadata": {},
   "outputs": [],
   "source": [
    "OVERVOTE = 'overvote'\n",
    "UNDERVOTE = 'undervote'\n",
    "\n",
    "candidate_set = {\n",
    "    'Bond, Tiffany L.',\n",
    "    'DEM Golden, Jared F.',\n",
    "    'Hoar, William R.S.',\n",
    "    'REP Poliquin, Bruce'\n",
    "}\n",
    "continuing_candidate_set = {\n",
    "    'Bond, Tiffany L.',\n",
    "    'DEM Golden, Jared F.',\n",
    "    'Hoar, William R.S.',\n",
    "    'REP Poliquin, Bruce'\n",
    "}"
   ]
  },
  {
   "cell_type": "markdown",
   "metadata": {},
   "source": [
    ">D. \"Exhausted ballot\" means a ballot that does not rank any continuing candidate, contains an overvote at the highest continuing ranking or contains 2 or more sequential skipped rankings before its highest continuing ranking. "
   ]
  },
  {
   "cell_type": "code",
   "execution_count": 7,
   "metadata": {},
   "outputs": [],
   "source": [
    "# Constants\n",
    "OVERVOTE = 'overvote'\n",
    "UNDERVOTE = 'undervote'\n",
    "\n",
    "# Helper functions\n",
    "def ballot_has_two_consecutive_skipped_rankings(ballot):\n",
    "    highest_continuing_rank = ballot['highest_continuing_rank']\n",
    "    if highest_continuing_rank < 3:\n",
    "        return False\n",
    "    else:\n",
    "        rank_one_before = \"rank{}\".format(highest_continuing_rank - 1)\n",
    "        rank_two_before = \"rank{}\".format(highest_continuing_rank - 2)\n",
    "    return (ballot[rank_one_before] == UNDERVOTE) and (ballot[rank_two_before] == UNDERVOTE)\n",
    "\n",
    "def ballot_exhausted_for_overvote(ballot):\n",
    "    highest_continuing_rank = ballot['highest_continuing_rank']\n",
    "    if highest_continuing_rank in {1,2,3,4,5}:\n",
    "        return ballot[\"rank{}\".format(highest_continuing_rank)] == OVERVOTE\n",
    "    else:\n",
    "        return False\n",
    "\n",
    "def mark_exhausted_ballots(continuing_ballot_df, continuing_candidate_set):\n",
    "    # determine which ballot rank a continuing candidate according to https://legislature.maine.gov/statutes/21-A/title21-Asec723-A.html\n",
    "    ranks_a_continuing_candidate = (continuing_ballot_df['rank1'].isin(continuing_candidate_set)\n",
    "        | continuing_ballot_df['rank2'].isin(continuing_candidate_set)\n",
    "        | continuing_ballot_df['rank3'].isin(continuing_candidate_set)\n",
    "        | continuing_ballot_df['rank4'].isin(continuing_candidate_set)\n",
    "        | continuing_ballot_df['rank5'].isin(continuing_candidate_set))\n",
    "    continuing_ballot_df['does_not_rank_any_continuing_candidate'] = ~ranks_a_continuing_candidate\n",
    "    print(continuing_ballot_df['does_not_rank_any_continuing_candidate'].value_counts()[True], \"ballots exhausted for not ranking any continuing candidate.\")\n",
    "    \n",
    "    # determine the highest continuing rank according to https://legislature.maine.gov/statutes/21-A/title21-Asec723-A.html\n",
    "    # E. \"Highest continuing ranking\" means the highest ranking on a voter's ballot for a continuing candidate.   [IB 2015, c. 3, §5 (NEW).]\n",
    "    continuing_ballot_df['highest_continuing_rank'] = 6 # defaults to 6 so that if the ballot is all undervotes, then ballot_has_two_consecutive_skipped_rankings will catch it\n",
    "    for rank_idx in range(5, 0, -1):\n",
    "        continuing_ballot_df['rank_choice_in_continuing_candidate_set'] = continuing_ballot_df[\"rank{}\".format(rank_idx)].isin(continuing_candidate_set | {OVERVOTE})\n",
    "        continuing_ballot_df.loc[continuing_ballot_df['rank_choice_in_continuing_candidate_set'], 'highest_continuing_rank'] = rank_idx\n",
    "    \n",
    "    # determine which ballots have an overvote at their highest continuing ranking according to https://legislature.maine.gov/statutes/21-A/title21-Asec723-A.html\n",
    "    # H. \"Overvote\" means a circumstance in which a voter has ranked more than one candidate at the same ranking.   [IB 2015, c. 3, §5 (NEW).]\n",
    "    continuing_ballot_df['overvote'] = continuing_ballot_df.apply(lambda ballot: ballot_exhausted_for_overvote(ballot), axis=1)\n",
    "    print(continuing_ballot_df['overvote'].value_counts()[True], \"ballots exhausted for overvotes.\")\n",
    "     \n",
    "    continuing_ballot_df['two_consecutive_skipped_rankings'] = continuing_ballot_df.apply(lambda ballot: ballot_has_two_consecutive_skipped_rankings(ballot), axis=1)\n",
    "    print(continuing_ballot_df['two_consecutive_skipped_rankings'].value_counts()[True], \"ballots exhausted for two consecutive skipped rankings.\")\n",
    "    \n",
    "    continuing_ballot_df['exhausted'] = continuing_ballot_df['overvote'] | continuing_ballot_df['two_consecutive_skipped_rankings'] | continuing_ballot_df['does_not_rank_any_continuing_candidate']\n",
    "    print(continuing_ballot_df['exhausted'].value_counts()[True], \"total ballots exhausted.\")\n",
    "    return continuing_ballot_df"
   ]
  },
  {
   "cell_type": "markdown",
   "metadata": {},
   "source": [
    "## Procedure\n",
    ">Except as provided in subsections 3 and 4, the following procedures are used to determine the winner of an election determined by ranked-choice voting. The ranked‑choice voting count must proceed in rounds. In each round, the number of votes for each continuing candidate must be counted. Each continuing ballot counts as one vote for its highest-ranked continuing candidate for that round. Exhausted ballots are not counted for any continuing candidate. The round then ends with one of the following 2 potential outcomes.\n",
    "\n",
    ">A. If there are 2 or fewer continuing candidates, the candidate with the most votes is declared the winner of the election.   [IB 2015, c. 3, §5 (NEW).]\n",
    "\n",
    ">B. If there are more than 2 continuing candidates, the last-place candidate is defeated and a new round begins.   [IB 2015, c. 3, §5 (NEW).]"
   ]
  },
  {
   "cell_type": "code",
   "execution_count": 8,
   "metadata": {},
   "outputs": [
    {
     "name": "stdout",
     "output_type": "stream",
     "text": [
      "\n",
      "Starting Round 1\n",
      "Determining which ballots are exhausted\n",
      "5928 ballots exhausted for not ranking any continuing candidate.\n",
      "462 ballots exhausted for overvotes.\n",
      "6018 ballots exhausted for two consecutive skipped rankings.\n",
      "6453 total ballots exhausted.\n",
      "Hoar, William R.S. was eliminated.\n",
      "\n",
      "Starting Round 2\n",
      "Determining which ballots are exhausted\n",
      "2130 ballots exhausted for not ranking any continuing candidate.\n",
      "27 ballots exhausted for overvotes.\n",
      "2044 ballots exhausted for two consecutive skipped rankings.\n",
      "2162 total ballots exhausted.\n",
      "Bond, Tiffany L. was eliminated.\n",
      "\n",
      "Starting Round 3\n",
      "Determining which ballots are exhausted\n",
      "5991 ballots exhausted for not ranking any continuing candidate.\n",
      "123 ballots exhausted for overvotes.\n",
      "5728 ballots exhausted for two consecutive skipped rankings.\n",
      "6088 total ballots exhausted.\n",
      "DEM Golden, Jared F. won!\n"
     ]
    },
    {
     "data": {
      "text/html": [
       "<div>\n",
       "<style scoped>\n",
       "    .dataframe tbody tr th:only-of-type {\n",
       "        vertical-align: middle;\n",
       "    }\n",
       "\n",
       "    .dataframe tbody tr th {\n",
       "        vertical-align: top;\n",
       "    }\n",
       "\n",
       "    .dataframe thead th {\n",
       "        text-align: right;\n",
       "    }\n",
       "</style>\n",
       "<table border=\"1\" class=\"dataframe\">\n",
       "  <thead>\n",
       "    <tr style=\"text-align: right;\">\n",
       "      <th></th>\n",
       "      <th>1</th>\n",
       "      <th>2</th>\n",
       "      <th>3</th>\n",
       "    </tr>\n",
       "  </thead>\n",
       "  <tbody>\n",
       "    <tr>\n",
       "      <th>REP Poliquin, Bruce</th>\n",
       "      <td>134184</td>\n",
       "      <td>135073.0</td>\n",
       "      <td>138932.0</td>\n",
       "    </tr>\n",
       "    <tr>\n",
       "      <th>DEM Golden, Jared F.</th>\n",
       "      <td>132013</td>\n",
       "      <td>133216.0</td>\n",
       "      <td>142442.0</td>\n",
       "    </tr>\n",
       "    <tr>\n",
       "      <th>Bond, Tiffany L.</th>\n",
       "      <td>16552</td>\n",
       "      <td>19173.0</td>\n",
       "      <td>NaN</td>\n",
       "    </tr>\n",
       "    <tr>\n",
       "      <th>Hoar, William R.S.</th>\n",
       "      <td>6875</td>\n",
       "      <td>NaN</td>\n",
       "      <td>NaN</td>\n",
       "    </tr>\n",
       "  </tbody>\n",
       "</table>\n",
       "</div>"
      ],
      "text/plain": [
       "                           1         2         3\n",
       "REP Poliquin, Bruce   134184  135073.0  138932.0\n",
       "DEM Golden, Jared F.  132013  133216.0  142442.0\n",
       "Bond, Tiffany L.       16552   19173.0       NaN\n",
       "Hoar, William R.S.      6875       NaN       NaN"
      ]
     },
     "execution_count": 8,
     "metadata": {},
     "output_type": "execute_result"
    }
   ],
   "source": [
    "candidate_set = {\n",
    "    'Bond, Tiffany L.',\n",
    "    'DEM Golden, Jared F.',\n",
    "    'Hoar, William R.S.',\n",
    "    'REP Poliquin, Bruce'\n",
    "}\n",
    "continuing_candidate_set = {\n",
    "    'Bond, Tiffany L.',\n",
    "    'DEM Golden, Jared F.',\n",
    "    'Hoar, William R.S.',\n",
    "    'REP Poliquin, Bruce'\n",
    "}\n",
    "\n",
    "import warnings\n",
    "warnings.filterwarnings('error')\n",
    "\n",
    "decided = False\n",
    "round_index = 1\n",
    "votes_by_round_df = pd.DataFrame()\n",
    "continuing_ballot_df = ballot_df\n",
    "round_to_ballot_df = {}\n",
    "\n",
    "def get_highest_ranked_candidate(ballot):\n",
    "    rank_idx = ballot['highest_continuing_rank']\n",
    "    if rank_idx in {1,2,3,4,5}:\n",
    "        return ballot[\"rank{}\".format(rank_idx)]\n",
    "    else:\n",
    "        return False\n",
    "\n",
    "while not decided:\n",
    "    print(\"\\nStarting Round\", round_index)\n",
    "\n",
    "    # determine which ballots are exhausted\n",
    "    print(\"Determining which ballots are exhausted\")\n",
    "    continuing_ballot_df_exhausted_marked = mark_exhausted_ballots(continuing_ballot_df, continuing_candidate_set)\n",
    "    \n",
    "    # determine the highest ranked continuing candidate for each ballot\n",
    "    continuing_ballot_df['highest_ranked_continuing_candidate'] = continuing_ballot_df.apply(lambda ballot: get_highest_ranked_candidate(ballot), axis=1)  \n",
    "    # record this round's ballot dataframe for analysis\n",
    "    round_to_ballot_df[round_index] = continuing_ballot_df_exhausted_marked\n",
    "    \n",
    "    # remove exhausted ballots from consideration\n",
    "    continuing_ballot_df = pd.DataFrame(continuing_ballot_df_exhausted_marked[~continuing_ballot_df_exhausted_marked['exhausted']])\n",
    "    assert set(continuing_ballot_df['highest_ranked_continuing_candidate'].unique()) <= continuing_candidate_set\n",
    "                                                                              \n",
    "    # for each continuing ballot, assign one vote for its highest ranked continuing candidate                              \n",
    "    votes_by_round_df[round_index] = continuing_ballot_df['highest_ranked_continuing_candidate'].value_counts()\n",
    "\n",
    "    if len(continuing_candidate_set) <= 2:\n",
    "        decided = True\n",
    "        winning_candidate = votes_by_round_df[votes_by_round_df[round_index]==votes_by_round_df[round_index].max()].index[0]\n",
    "        print(winning_candidate, \"won!\")\n",
    "    else:\n",
    "        # Eliminate the continuing candidate with the fewest\n",
    "        eliminated_candidate = votes_by_round_df[votes_by_round_df[round_index]==votes_by_round_df[round_index].min()].index[0]\n",
    "        continuing_candidate_set.remove(eliminated_candidate)\n",
    "        print(eliminated_candidate, \"was eliminated.\")\n",
    "    round_index += 1\n",
    "                                                                              \n",
    "votes_by_round_df"
   ]
  },
  {
   "cell_type": "code",
   "execution_count": 9,
   "metadata": {},
   "outputs": [
    {
     "data": {
      "text/plain": [
       "1    289624.0\n",
       "2    287462.0\n",
       "3    281374.0\n",
       "dtype: float64"
      ]
     },
     "execution_count": 9,
     "metadata": {},
     "output_type": "execute_result"
    }
   ],
   "source": [
    "votes_by_round_df.sum()"
   ]
  }
 ],
 "metadata": {
  "kernelspec": {
   "display_name": "Python 3",
   "language": "python",
   "name": "python3"
  },
  "language_info": {
   "codemirror_mode": {
    "name": "ipython",
    "version": 3
   },
   "file_extension": ".py",
   "mimetype": "text/x-python",
   "name": "python",
   "nbconvert_exporter": "python",
   "pygments_lexer": "ipython3",
   "version": "3.7.6"
  }
 },
 "nbformat": 4,
 "nbformat_minor": 4
}
